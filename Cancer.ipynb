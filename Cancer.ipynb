{
 "cells": [
  {
   "cell_type": "markdown",
   "id": "6a99217e-8431-4c10-8b81-8e92274f1c03",
   "metadata": {},
   "source": [
    "## Prayas Jadaun\n",
    "## 2301560025\n",
    "## MCA-A\n",
    "## AI & Machine Learning"
   ]
  },
  {
   "cell_type": "markdown",
   "id": "e13080aa-5983-4242-9754-9b6a1bebb9f3",
   "metadata": {},
   "source": [
    "****************************************************"
   ]
  },
  {
   "cell_type": "markdown",
   "id": "396cdd4a-f22b-4a0e-9dbe-adbde27537ab",
   "metadata": {},
   "source": [
    "## Project Overview\n",
    "The project involving the specified columns likely focuses on breast cancer classification or prediction tasks, utilizing various attributes to differentiate between benign and malignant tumors. The columns hold crucial information about cellular characteristics observed in tissue samples:\r",
    "els."
   ]
  },
  {
   "cell_type": "markdown",
   "id": "67f9a36e-cfb0-427b-a897-14caf8bb78a5",
   "metadata": {},
   "source": [
    "###### ID: Acts as a unique identifier for each entry in the dataset, facilitating data organization.\n",
    "###### Clump Thickness, Uniformity of Cell Size, Uniformity of Cell Shape, Marginal Adhesion, Single Epithelial Cell Size, Bare Nuclei, Bland Chromatin, Normal Nucleoli, Mitoses: These columns represent ratings, scales, or counts related to cellular features and abnormalities, aiding in understanding the tumor's characteristics.\n",
    "###### Classes: Provides the target labels, categorizing the samples into benign or malignant classes, essential for supervised learning models."
   ]
  },
  {
   "cell_type": "markdown",
   "id": "13460cbc-c664-436d-bfa4-03930c5e3ffb",
   "metadata": {},
   "source": [
    "## Summary: \n",
    "\n",
    "1. **ID**: Represents a unique identifier for each entry in the dataset, aiding in data organization and tracking individual records.\r\n",
    "2. **Clump Thickness**: Rates the thickness of cell clumps on a scale of 1-10, providing insights into cellular aggregation.\r\n",
    "3. **Uniformity of Cell Size**: Reflects the consistency of cell sizes, rated on a scale of 1-10, indicating variations or regularity.\r\n",
    "4. **Uniformity of Cell Shape**: Rates the uniformity of cell shapes on a scale of 1-10, measuring regular or irregular cellular forms.\r\n",
    "5. **Marginal Adhesion**: Indicates the degree of adhesion at cell margins, measured on a scale of 1-10, highlighting attachment strength.\r\n",
    "6. **Single Epithelial Cell Size**: Rates the size of individual epithelial cells, potentially indicating variations or abnormalities.\r\n",
    "7. **Bare Nuclei**: Reflects the presence or absence of bare nuclei, measured on a scale of 1-10, offering insights into cellular characteristics.\r\n",
    "8. **Bland Chromatin**: Rates the blandness or regularity of chromatin within cells on a scale of 1-10, likely indicating normal or abnormal cellular characteristics.\r\n",
    "9. **Normal Nucleoli**: Rates the normalcy of nucleoli observed on a scale of 1-10, potentially reflecting regular or irregular nucleolar features.\r\n",
    "10. **Mitoses**: Represents the count of mitotic figures observed, providing insights into cell division rates.\r\n",
    "11. **Classes**: Binary classification labels categorizing samples into benign or malignant classes, essential for supervised learnq114896423)]."
   ]
  },
  {
   "cell_type": "markdown",
   "id": "2442171c-4871-49b8-a76b-4bbfc8fd4439",
   "metadata": {},
   "source": [
    "## DataSet Information:\n",
    "\n",
    "1. **ID**: Represents a unique identification number for each entry in the dataset, likely assigned arbitrarily for tracking purposes within the dataset.\r\n",
    "2. **Clump Thickness**: A rating on a scale of 1-10, indicating the thickness of cell clumps observed in the sample.\r\n",
    "3. **Uniformity of Cell Size**: Indicates the uniformity of cell sizes on a scale of 1-10, possibly measuring the consistency in cell size observed.\r\n",
    "4. **Uniformity of Cell Shape**: Reflects the uniformity of cell shapes on a scale of 1-10, depicting the regularity in cellular shapes within the sample.\r\n",
    "5. **Marginal Adhesion**: Represents the level of adhesion observed at the cell margins, rated on a scale of 1-10, likely assessing the degree of attachment between adjacent cells.\r\n",
    "6. **Single Epithelial Cell Size**: Measures the size of single epithelial cells, quantified on a scale of 1-10, possibly indicating abnormalities or variations in cell sizes.\r\n",
    "7. **Bare Nuclei**: Indicates the presence or absence of bare nuclei, rated on a scale of 1-10, possibly reflecting the observed characteristics related to the nuclei of cells.\r\n",
    "8. **Bland Chromatin**: Represents the blandness or regularity of chromatin observed within the cells, rated on a scale of 1-10, potentially indicating normal or abnormal cell characteristics.\r\n",
    "9. **Normal Nucleoli**: Rates the normalcy of nucleoli observed on a scale of 1-10, likely assessing the regularity or abnormalities in nucleoli within the cell.\r\n",
    "10. **Mitoses**: Represents the count of mitoses occurrences observed in the sample, providing insights into the cell division rate or proliferation.\r\n",
    "11. **Classes**: A binary classification label indicating the categorization of the sample into benign or malignant classes, crucial for supervised learning n-keyerror-1-0)"
   ]
  },
  {
   "cell_type": "markdown",
   "id": "e6508375-b480-494d-ad31-5ea3dcb64e37",
   "metadata": {},
   "source": [
    "# Import Libraries "
   ]
  },
  {
   "cell_type": "code",
   "execution_count": 1,
   "id": "641527f0-2000-4dcb-a947-bab184dd8866",
   "metadata": {},
   "outputs": [],
   "source": [
    "import pandas as pd\n",
    "import matplotlib.pyplot as plt\n",
    "import numpy as np\n",
    "import seaborn as sns\n",
    "import warnings \n",
    "warnings.simplefilter('ignore')\n",
    "%matplotlib Inline\n",
    "from sklearn.preprocessing import MinMaxScaler\n",
    "from sklearn.model_selection import train_test_split\n",
    "from sklearn.neighbors import KNeighborsClassifier\n",
    "from sklearn.metrics import accuracy_score, classification_report\n",
    "from sklearn.model_selection import cross_val_score\n",
    "from sklearn.datasets import make_classification\n",
    "from sklearn.linear_model import LogisticRegression\n",
    "from sklearn.tree import DecisionTreeClassifier\n",
    "from sklearn.metrics import accuracy_score\n",
    "from sklearn.feature_selection import SelectKBest, f_classif\n",
    "from sklearn.feature_selection import SelectKBest, f_classif\n",
    "from sklearn.datasets import load_iris\n",
    "from sklearn import metrics\n",
    "from sklearn.preprocessing import MinMaxScaler, StandardScaler\n"
   ]
  },
  {
   "cell_type": "markdown",
   "id": "4268b036-a811-4c46-b152-c91684a11086",
   "metadata": {},
   "source": [
    "## Read Data"
   ]
  },
  {
   "cell_type": "code",
   "execution_count": 2,
   "id": "6d2fca0e-c48e-4bbc-9156-423eedbdfee3",
   "metadata": {},
   "outputs": [
    {
     "data": {
      "text/html": [
       "<div>\n",
       "<style scoped>\n",
       "    .dataframe tbody tr th:only-of-type {\n",
       "        vertical-align: middle;\n",
       "    }\n",
       "\n",
       "    .dataframe tbody tr th {\n",
       "        vertical-align: top;\n",
       "    }\n",
       "\n",
       "    .dataframe thead th {\n",
       "        text-align: right;\n",
       "    }\n",
       "</style>\n",
       "<table border=\"1\" class=\"dataframe\">\n",
       "  <thead>\n",
       "    <tr style=\"text-align: right;\">\n",
       "      <th></th>\n",
       "      <th>id</th>\n",
       "      <th>clump_thickness</th>\n",
       "      <th>unif_cell_size</th>\n",
       "      <th>unif_cell_shape</th>\n",
       "      <th>marg_adhesion</th>\n",
       "      <th>single_epith_cell_size</th>\n",
       "      <th>bare_nuclei</th>\n",
       "      <th>bland_chrom</th>\n",
       "      <th>norm_nucleoli</th>\n",
       "      <th>mitoses</th>\n",
       "      <th>classes</th>\n",
       "    </tr>\n",
       "  </thead>\n",
       "  <tbody>\n",
       "    <tr>\n",
       "      <th>0</th>\n",
       "      <td>1000025</td>\n",
       "      <td>5</td>\n",
       "      <td>1</td>\n",
       "      <td>1</td>\n",
       "      <td>1</td>\n",
       "      <td>2</td>\n",
       "      <td>1</td>\n",
       "      <td>3</td>\n",
       "      <td>1</td>\n",
       "      <td>1</td>\n",
       "      <td>0</td>\n",
       "    </tr>\n",
       "    <tr>\n",
       "      <th>1</th>\n",
       "      <td>1002945</td>\n",
       "      <td>5</td>\n",
       "      <td>4</td>\n",
       "      <td>4</td>\n",
       "      <td>5</td>\n",
       "      <td>7</td>\n",
       "      <td>10</td>\n",
       "      <td>3</td>\n",
       "      <td>2</td>\n",
       "      <td>1</td>\n",
       "      <td>0</td>\n",
       "    </tr>\n",
       "    <tr>\n",
       "      <th>2</th>\n",
       "      <td>1015425</td>\n",
       "      <td>3</td>\n",
       "      <td>1</td>\n",
       "      <td>1</td>\n",
       "      <td>1</td>\n",
       "      <td>2</td>\n",
       "      <td>2</td>\n",
       "      <td>3</td>\n",
       "      <td>1</td>\n",
       "      <td>1</td>\n",
       "      <td>0</td>\n",
       "    </tr>\n",
       "    <tr>\n",
       "      <th>3</th>\n",
       "      <td>1016277</td>\n",
       "      <td>6</td>\n",
       "      <td>8</td>\n",
       "      <td>8</td>\n",
       "      <td>1</td>\n",
       "      <td>3</td>\n",
       "      <td>4</td>\n",
       "      <td>3</td>\n",
       "      <td>7</td>\n",
       "      <td>1</td>\n",
       "      <td>0</td>\n",
       "    </tr>\n",
       "    <tr>\n",
       "      <th>4</th>\n",
       "      <td>1017023</td>\n",
       "      <td>4</td>\n",
       "      <td>1</td>\n",
       "      <td>1</td>\n",
       "      <td>3</td>\n",
       "      <td>2</td>\n",
       "      <td>1</td>\n",
       "      <td>3</td>\n",
       "      <td>1</td>\n",
       "      <td>1</td>\n",
       "      <td>0</td>\n",
       "    </tr>\n",
       "  </tbody>\n",
       "</table>\n",
       "</div>"
      ],
      "text/plain": [
       "        id  clump_thickness  unif_cell_size  unif_cell_shape  marg_adhesion  \\\n",
       "0  1000025                5               1                1              1   \n",
       "1  1002945                5               4                4              5   \n",
       "2  1015425                3               1                1              1   \n",
       "3  1016277                6               8                8              1   \n",
       "4  1017023                4               1                1              3   \n",
       "\n",
       "   single_epith_cell_size bare_nuclei  bland_chrom  norm_nucleoli  mitoses  \\\n",
       "0                       2           1            3              1        1   \n",
       "1                       7          10            3              2        1   \n",
       "2                       2           2            3              1        1   \n",
       "3                       3           4            3              7        1   \n",
       "4                       2           1            3              1        1   \n",
       "\n",
       "   classes  \n",
       "0        0  \n",
       "1        0  \n",
       "2        0  \n",
       "3        0  \n",
       "4        0  "
      ]
     },
     "execution_count": 2,
     "metadata": {},
     "output_type": "execute_result"
    }
   ],
   "source": [
    "df = pd.read_csv(\"E:\\My Environment\\MCA Notes\\Project\\Cancer\\cancer.csv\")\n",
    "df.head()"
   ]
  },
  {
   "cell_type": "code",
   "execution_count": 3,
   "id": "2d57d768-dfc9-48c0-8ef7-7ca1b6e8c0d7",
   "metadata": {},
   "outputs": [
    {
     "data": {
      "text/plain": [
       "id                        0\n",
       "clump_thickness           0\n",
       "unif_cell_size            0\n",
       "unif_cell_shape           0\n",
       "marg_adhesion             0\n",
       "single_epith_cell_size    0\n",
       "bare_nuclei               0\n",
       "bland_chrom               0\n",
       "norm_nucleoli             0\n",
       "mitoses                   0\n",
       "classes                   0\n",
       "dtype: int64"
      ]
     },
     "execution_count": 3,
     "metadata": {},
     "output_type": "execute_result"
    }
   ],
   "source": [
    "missing_values = df.isnull().sum()\n",
    "\n",
    "# Display the count of missing values\n",
    "missing_values"
   ]
  },
  {
   "cell_type": "code",
   "execution_count": 4,
   "id": "204b1982-1306-4001-a1ac-7a07550390f0",
   "metadata": {},
   "outputs": [
    {
     "data": {
      "text/plain": [
       "0"
      ]
     },
     "execution_count": 4,
     "metadata": {},
     "output_type": "execute_result"
    }
   ],
   "source": [
    "missing_values_bare_nuclei = df['bare_nuclei'].isnull().sum()\n",
    "\n",
    "# Display the count of missing values in the 'bare_nuclei' column\n",
    "missing_values_bare_nuclei"
   ]
  },
  {
   "cell_type": "markdown",
   "id": "3b3d0eb5-8551-4a07-b191-eed9e526c089",
   "metadata": {},
   "source": [
    "### Explore the distribution of classes in the 'classes' column"
   ]
  },
  {
   "cell_type": "code",
   "execution_count": 5,
   "id": "36e30bba-21d6-45fe-97d5-0f95d170e73e",
   "metadata": {},
   "outputs": [
    {
     "data": {
      "image/png": "[encoded data removed]",
      "text/plain": [
       "<Figure size 640x480 with 1 Axes>"
      ]
     },
     "metadata": {},
     "output_type": "display_data"
    }
   ],
   "source": [
    "# Plot the distribution of classes in the 'classes' column\n",
    "df['classes'].value_counts().plot(kind='bar')\n",
    "plt.xlabel('Classes')\n",
    "plt.ylabel('Count')\n",
    "plt.title('Distribution of Classes')\n",
    "plt.show()"
   ]
  },
  {
   "cell_type": "markdown",
   "id": "4160ac89-7327-4c2a-94d7-905b546c698b",
   "metadata": {},
   "source": [
    "### Visualize the relationship between 'clump_thickness' and 'classes' for potential insights."
   ]
  },
  {
   "cell_type": "code",
   "execution_count": 6,
   "id": "53370a9a-b9a7-40cf-9d62-91c42ed83989",
   "metadata": {},
   "outputs": [
    {
     "data": {
      "image/png": "[encoded data removed]",
      "text/plain": [
       "<Figure size 640x480 with 1 Axes>"
      ]
     },
     "metadata": {},
     "output_type": "display_data"
    }
   ],
   "source": [
    "# Plotting the relationship between 'clump_thickness' and 'classes'\n",
    "sns.histplot(data=df, x='clump_thickness', hue='classes', multiple='stack')\n",
    "plt.xlabel('Clump Thickness')\n",
    "plt.ylabel('Count')\n",
    "plt.title('Relationship between Clump Thickness and Classes')\n",
    "plt.show()"
   ]
  },
  {
   "cell_type": "markdown",
   "id": "6d626912-e7e9-4491-ad06-d729f399ae15",
   "metadata": {},
   "source": [
    "### Analyze the correlation between 'clump_thickness' and 'unif_cell_size' for classification relevance."
   ]
  },
  {
   "cell_type": "code",
   "execution_count": 7,
   "id": "677ca0fa-c421-464f-b1ea-f86c49be40ed",
   "metadata": {},
   "outputs": [
    {
     "data": {
      "image/png": "[encoded data removed]",
      "text/plain": [
       "<Figure size 640x480 with 1 Axes>"
      ]
     },
     "metadata": {},
     "output_type": "display_data"
    },
    {
     "name": "stdout",
     "output_type": "stream",
     "text": [
      "Correlation between Clump Thickness and Uniformity of Cell Size: 0.6449125043512701\n"
     ]
    }
   ],
   "source": [
    "# Plotting the relationship between 'clump_thickness' and 'unif_cell_size' with a scatterplot\n",
    "sns.scatterplot(data=df, x='clump_thickness', y='unif_cell_size')\n",
    "plt.xlabel('Clump Thickness')\n",
    "plt.ylabel('Uniformity of Cell Size')\n",
    "plt.title('Relationship between Clump Thickness and Uniformity of Cell Size')\n",
    "plt.show()\n",
    "\n",
    "# Calculating the correlation coefficient between 'clump_thickness' and 'unif_cell_size'\n",
    "correlation = df['clump_thickness'].corr(df['unif_cell_size'])\n",
    "print(f\"Correlation between Clump Thickness and Uniformity of Cell Size: {correlation}\")\n"
   ]
  },
  {
   "cell_type": "markdown",
   "id": "fedd1df4-a798-4211-a82f-a809dd420078",
   "metadata": {},
   "source": [
    " ### Normalize the numerical columns ('clump_thickness', 'unif_cell_size', etc.) to the same scale for KNN."
   ]
  },
  {
   "cell_type": "code",
   "execution_count": 8,
   "id": "a56051be-8205-4003-90fd-82584e85f2b9",
   "metadata": {},
   "outputs": [
    {
     "data": {
      "text/html": [
       "<div>\n",
       "<style scoped>\n",
       "    .dataframe tbody tr th:only-of-type {\n",
       "        vertical-align: middle;\n",
       "    }\n",
       "\n",
       "    .dataframe tbody tr th {\n",
       "        vertical-align: top;\n",
       "    }\n",
       "\n",
       "    .dataframe thead th {\n",
       "        text-align: right;\n",
       "    }\n",
       "</style>\n",
       "<table border=\"1\" class=\"dataframe\">\n",
       "  <thead>\n",
       "    <tr style=\"text-align: right;\">\n",
       "      <th></th>\n",
       "      <th>id</th>\n",
       "      <th>clump_thickness</th>\n",
       "      <th>unif_cell_size</th>\n",
       "      <th>unif_cell_shape</th>\n",
       "      <th>marg_adhesion</th>\n",
       "      <th>single_epith_cell_size</th>\n",
       "      <th>bare_nuclei</th>\n",
       "      <th>bland_chrom</th>\n",
       "      <th>norm_nucleoli</th>\n",
       "      <th>mitoses</th>\n",
       "      <th>classes</th>\n",
       "    </tr>\n",
       "  </thead>\n",
       "  <tbody>\n",
       "    <tr>\n",
       "      <th>0</th>\n",
       "      <td>1000025</td>\n",
       "      <td>0.444444</td>\n",
       "      <td>0.000000</td>\n",
       "      <td>1</td>\n",
       "      <td>1</td>\n",
       "      <td>2</td>\n",
       "      <td>1</td>\n",
       "      <td>3</td>\n",
       "      <td>1</td>\n",
       "      <td>1</td>\n",
       "      <td>0</td>\n",
       "    </tr>\n",
       "    <tr>\n",
       "      <th>1</th>\n",
       "      <td>1002945</td>\n",
       "      <td>0.444444</td>\n",
       "      <td>0.333333</td>\n",
       "      <td>4</td>\n",
       "      <td>5</td>\n",
       "      <td>7</td>\n",
       "      <td>10</td>\n",
       "      <td>3</td>\n",
       "      <td>2</td>\n",
       "      <td>1</td>\n",
       "      <td>0</td>\n",
       "    </tr>\n",
       "    <tr>\n",
       "      <th>2</th>\n",
       "      <td>1015425</td>\n",
       "      <td>0.222222</td>\n",
       "      <td>0.000000</td>\n",
       "      <td>1</td>\n",
       "      <td>1</td>\n",
       "      <td>2</td>\n",
       "      <td>2</td>\n",
       "      <td>3</td>\n",
       "      <td>1</td>\n",
       "      <td>1</td>\n",
       "      <td>0</td>\n",
       "    </tr>\n",
       "    <tr>\n",
       "      <th>3</th>\n",
       "      <td>1016277</td>\n",
       "      <td>0.555556</td>\n",
       "      <td>0.777778</td>\n",
       "      <td>8</td>\n",
       "      <td>1</td>\n",
       "      <td>3</td>\n",
       "      <td>4</td>\n",
       "      <td>3</td>\n",
       "      <td>7</td>\n",
       "      <td>1</td>\n",
       "      <td>0</td>\n",
       "    </tr>\n",
       "    <tr>\n",
       "      <th>4</th>\n",
       "      <td>1017023</td>\n",
       "      <td>0.333333</td>\n",
       "      <td>0.000000</td>\n",
       "      <td>1</td>\n",
       "      <td>3</td>\n",
       "      <td>2</td>\n",
       "      <td>1</td>\n",
       "      <td>3</td>\n",
       "      <td>1</td>\n",
       "      <td>1</td>\n",
       "      <td>0</td>\n",
       "    </tr>\n",
       "  </tbody>\n",
       "</table>\n",
       "</div>"
      ],
      "text/plain": [
       "        id  clump_thickness  unif_cell_size  unif_cell_shape  marg_adhesion  \\\n",
       "0  1000025         0.444444        0.000000                1              1   \n",
       "1  1002945         0.444444        0.333333                4              5   \n",
       "2  1015425         0.222222        0.000000                1              1   \n",
       "3  1016277         0.555556        0.777778                8              1   \n",
       "4  1017023         0.333333        0.000000                1              3   \n",
       "\n",
       "   single_epith_cell_size bare_nuclei  bland_chrom  norm_nucleoli  mitoses  \\\n",
       "0                       2           1            3              1        1   \n",
       "1                       7          10            3              2        1   \n",
       "2                       2           2            3              1        1   \n",
       "3                       3           4            3              7        1   \n",
       "4                       2           1            3              1        1   \n",
       "\n",
       "   classes  \n",
       "0        0  \n",
       "1        0  \n",
       "2        0  \n",
       "3        0  \n",
       "4        0  "
      ]
     },
     "execution_count": 8,
     "metadata": {},
     "output_type": "execute_result"
    }
   ],
   "source": [
    "# Selecting numerical columns to normalize\n",
    "numerical_cols = ['clump_thickness', 'unif_cell_size']  # Add other numerical columns as needed\n",
    "\n",
    "# Initialize MinMaxScaler\n",
    "scaler = MinMaxScaler()\n",
    "\n",
    "# Normalize selected columns\n",
    "df_normalized = df.copy()  # Make a copy of the DataFrame\n",
    "df_normalized[numerical_cols] = scaler.fit_transform(df[numerical_cols])\n",
    "\n",
    "# Display the normalized DataFrame\n",
    "df_normalized.head()\n"
   ]
  },
  {
   "cell_type": "code",
   "execution_count": 9,
   "id": "38fb8b22-dd8b-4625-93a4-0f259b531f83",
   "metadata": {},
   "outputs": [
    {
     "name": "stdout",
     "output_type": "stream",
     "text": [
      "          id  clump_thickness  unif_cell_size  unif_cell_shape  marg_adhesion  \\\n",
      "0    1000025                5               1                1              1   \n",
      "1    1002945                5               4                4              5   \n",
      "2    1015425                3               1                1              1   \n",
      "3    1016277                6               8                8              1   \n",
      "4    1017023                4               1                1              3   \n",
      "..       ...              ...             ...              ...            ...   \n",
      "694   776715                3               1                1              1   \n",
      "695   841769                2               1                1              1   \n",
      "696   888820                5              10               10              3   \n",
      "697   897471                4               8                6              4   \n",
      "698   897471                4               8                8              5   \n",
      "\n",
      "     single_epith_cell_size  bland_chrom  norm_nucleoli  mitoses  classes  \n",
      "0                         2            3              1        1        0  \n",
      "1                         7            3              2        1        0  \n",
      "2                         2            3              1        1        0  \n",
      "3                         3            3              7        1        0  \n",
      "4                         2            3              1        1        0  \n",
      "..                      ...          ...            ...      ...      ...  \n",
      "694                       3            1              1        1        0  \n",
      "695                       2            1              1        1        0  \n",
      "696                       7            8             10        2        1  \n",
      "697                       3           10              6        1        1  \n",
      "698                       4           10              4        1        1  \n",
      "\n",
      "[699 rows x 10 columns]\n"
     ]
    }
   ],
   "source": [
    "a = df.drop(columns = 'bare_nuclei')\n",
    "print(a)"
   ]
  },
  {
   "cell_type": "markdown",
   "id": "bc03d4cd-49e4-42df-9633-fd8456f16eab",
   "metadata": {},
   "source": [
    "### Split the dataset into training and testing sets for model evaluation."
   ]
  },
  {
   "cell_type": "code",
   "execution_count": 10,
   "id": "b4d5cda7-3302-4d26-bdd1-5d3ecf81c4d5",
   "metadata": {},
   "outputs": [
    {
     "name": "stdout",
     "output_type": "stream",
     "text": [
      "X_train shape: (559, 10), y_train shape: (559,)\n",
      "X_test shape: (140, 10), y_test shape: (140,)\n"
     ]
    }
   ],
   "source": [
    "X = df.drop(columns=['unif_cell_size'])  # Features\n",
    "y = df['unif_cell_size']  # Target variable\n",
    "\n",
    "X_train, X_test, y_train, y_test = train_test_split(X, y, test_size=0.2, random_state=42)\n",
    "\n",
    "print(f\"X_train shape: {X_train.shape}, y_train shape: {y_train.shape}\")\n",
    "print(f\"X_test shape: {X_test.shape}, y_test shape: {y_test.shape}\")\n"
   ]
  },
  {
   "cell_type": "code",
   "execution_count": 11,
   "id": "c12901cd-c380-42ca-9487-75da7d52331d",
   "metadata": {},
   "outputs": [],
   "source": [
    "df.replace('?', pd.NA, inplace=True)\n",
    "\n",
    "numeric_columns = ['bare_nuclei']  # Replace with actual column names\n",
    "df[numeric_columns] = df[numeric_columns].apply(pd.to_numeric, errors='coerce')\n"
   ]
  },
  {
   "cell_type": "markdown",
   "id": "1bae8ed8-8f5a-4ddf-8f62-b91eb7064d3f",
   "metadata": {},
   "source": [
    "### Visualize the decision boundary for KNN classification based on two relevant columns."
   ]
  },
  {
   "cell_type": "code",
   "execution_count": 12,
   "id": "a091331d-6211-4f08-85da-48802b65b9e9",
   "metadata": {},
   "outputs": [
    {
     "data": {
      "image/png": "[encoded data removed]",
      "text/plain": [
       "<Figure size 800x600 with 1 Axes>"
      ]
     },
     "metadata": {},
     "output_type": "display_data"
    }
   ],
   "source": [
    "X = df[['clump_thickness', 'unif_cell_size']]  # Features\n",
    "y = df['classes']  # Target variable\n",
    "\n",
    "knn = KNeighborsClassifier(n_neighbors=5)\n",
    "\n",
    "knn.fit(X, y)\n",
    "plt.figure(figsize=(8, 6))\n",
    "x_min, x_max = X.iloc[:, 0].min() - 1, X.iloc[:, 0].max() + 1\n",
    "y_min, y_max = X.iloc[:, 1].min() - 1, X.iloc[:, 1].max() + 1\n",
    "xx, yy = np.meshgrid(np.arange(x_min, x_max, 0.1),\n",
    "                     np.arange(y_min, y_max, 0.1))\n",
    "Z = knn.predict(np.c_[xx.ravel(), yy.ravel()])\n",
    "Z = Z.reshape(xx.shape)\n",
    "\n",
    "plt.contourf(xx, yy, Z, alpha=0.4)\n",
    "plt.scatter(X.iloc[:, 0], X.iloc[:, 1], c=y, s=50, edgecolor='k')\n",
    "plt.xlabel('Feature 1')\n",
    "plt.ylabel('Feature 2')\n",
    "plt.title('KNN Decision Boundary')\n",
    "plt.show()"
   ]
  },
  {
   "cell_type": "markdown",
   "id": "b93f8989-b221-4d80-a18e-25bc9d058da9",
   "metadata": {},
   "source": [
    "###  Visualize the decision boundary for KNN classification based on two relevant columns."
   ]
  },
  {
   "cell_type": "code",
   "execution_count": 13,
   "id": "e3240a4d-cda9-474a-a043-e293c54ee975",
   "metadata": {},
   "outputs": [
    {
     "name": "stdout",
     "output_type": "stream",
     "text": [
      "Logistic Regression Accuracy: 0.855\n",
      "Decision Tree Accuracy: 0.855\n",
      "KNN Accuracy: 0.81\n"
     ]
    }
   ],
   "source": [
    "X, y = make_classification(n_samples=1000, n_features=20, n_classes=2, random_state=42)\n",
    "\n",
    "X_train, X_test, y_train, y_test = train_test_split(X, y, test_size=0.2, random_state=42)\n",
    "\n",
    "log_reg = LogisticRegression()\n",
    "dt = DecisionTreeClassifier()\n",
    "knn = KNeighborsClassifier()\n",
    "\n",
    "log_reg.fit(X_train, y_train)\n",
    "dt.fit(X_train, y_train)\n",
    "knn.fit(X_train, y_train)\n",
    "\n",
    "log_reg_acc = accuracy_score(y_test, log_reg.predict(X_test))\n",
    "dt_acc = accuracy_score(y_test, dt.predict(X_test))\n",
    "knn_acc = accuracy_score(y_test, knn.predict(X_test))\n",
    "\n",
    "print(f\"Logistic Regression Accuracy: {log_reg_acc}\")\n",
    "print(f\"Decision Tree Accuracy: {dt_acc}\")\n",
    "print(f\"KNN Accuracy: {knn_acc}\")\n"
   ]
  },
  {
   "cell_type": "markdown",
   "id": "e00d8830-16da-4e08-ba54-597e3f47c3e2",
   "metadata": {},
   "source": [
    "### Compare the performance of KNN with other classification algorithms like Logistic Regression or Decision Trees"
   ]
  },
  {
   "cell_type": "code",
   "execution_count": 14,
   "id": "63591377-068b-4bb6-afba-7532526b7d46",
   "metadata": {},
   "outputs": [
    {
     "name": "stdout",
     "output_type": "stream",
     "text": [
      "Logistic Regression Accuracy: 0.855\n",
      "Decision Tree Accuracy: 0.875\n",
      "KNN Accuracy: 0.81\n"
     ]
    }
   ],
   "source": [
    "X, y = make_classification(n_samples=1000, n_features=20, n_classes=2, random_state=42)\n",
    "\n",
    "X_train, X_test, y_train, y_test = train_test_split(X, y, test_size=0.2, random_state=42)\n",
    "\n",
    "log_reg = LogisticRegression()\n",
    "dt = DecisionTreeClassifier()\n",
    "knn = KNeighborsClassifier()\n",
    "\n",
    "log_reg.fit(X_train, y_train)\n",
    "dt.fit(X_train, y_train)\n",
    "knn.fit(X_train, y_train)\n",
    "\n",
    "log_reg_acc = accuracy_score(y_test, log_reg.predict(X_test))\n",
    "dt_acc = accuracy_score(y_test, dt.predict(X_test))\n",
    "knn_acc = accuracy_score(y_test, knn.predict(X_test))\n",
    "\n",
    "print(f\"Logistic Regression Accuracy: {log_reg_acc}\")\n",
    "print(f\"Decision Tree Accuracy: {dt_acc}\")\n",
    "print(f\"KNN Accuracy: {knn_acc}\")\n"
   ]
  },
  {
   "cell_type": "markdown",
   "id": "5c7b9dba-e1a9-47cc-9665-578c4ba0cd58",
   "metadata": {},
   "source": [
    "### Perform feature selection to identify the most influential columns for classification."
   ]
  },
  {
   "cell_type": "code",
   "execution_count": 15,
   "id": "c9b210e1-116a-4f5f-bd34-24352354bbb1",
   "metadata": {},
   "outputs": [
    {
     "name": "stdout",
     "output_type": "stream",
     "text": [
      "Selected Features: Index(['feature_2', 'feature_6', 'feature_11', 'feature_12', 'feature_19'], dtype='object')\n",
      "Classifier Accuracy with selected features: 0.865\n"
     ]
    }
   ],
   "source": [
    "X, y = make_classification(n_samples=1000, n_features=20, n_classes=2, random_state=42)\n",
    "\n",
    "# Convert the array to a DataFrame\n",
    "columns = [f\"feature_{i+1}\" for i in range(X.shape[1])]\n",
    "df = pd.DataFrame(X, columns=columns)\n",
    "df['target'] = y\n",
    "\n",
    "# Separate features and target\n",
    "features = df.drop('target', axis=1)\n",
    "target = df['target']\n",
    "\n",
    "# Split the dataset into train and test sets\n",
    "X_train, X_test, y_train, y_test = train_test_split(features, target, test_size=0.2, random_state=42)\n",
    "\n",
    "# Perform feature selection\n",
    "selector = SelectKBest(score_func=f_classif, k=5)  # Select top 5 features\n",
    "X_train_selected = selector.fit_transform(X_train, y_train)\n",
    "selected_features = features.columns[selector.get_support()]\n",
    "\n",
    "# Train a classifier using selected features\n",
    "clf = LogisticRegression()\n",
    "clf.fit(X_train_selected, y_train)\n",
    "\n",
    "# Evaluate the classifier\n",
    "X_test_selected = selector.transform(X_test)\n",
    "accuracy = clf.score(X_test_selected, y_test)\n",
    "\n",
    "print(f\"Selected Features: {selected_features}\")\n",
    "print(f\"Classifier Accuracy with selected features: {accuracy}\")\n"
   ]
  },
  {
   "cell_type": "markdown",
   "id": "5aeb2b8d-f614-4b16-af95-74f5ed5bd954",
   "metadata": {},
   "source": [
    "### Implement KNN classification with different distance metrics (Euclidean, Manhattan, etc.) for comparison"
   ]
  },
  {
   "cell_type": "code",
   "execution_count": 16,
   "id": "06f33c7a-4082-4be7-ab7e-04cc21f00d0f",
   "metadata": {},
   "outputs": [
    {
     "name": "stdout",
     "output_type": "stream",
     "text": [
      "Accuracy using euclidean distance metric: 1.0\n",
      "Accuracy using manhattan distance metric: 1.0\n",
      "Accuracy using chebyshev distance metric: 0.9666666666666667\n"
     ]
    }
   ],
   "source": [
    "\n",
    "iris = load_iris()\n",
    "X = iris.data\n",
    "y = iris.target\n",
    "\n",
    "X_train, X_test, y_train, y_test = train_test_split(X, y, test_size=0.2, random_state=42)\n",
    "\n",
    "# Define different distance metrics\n",
    "distance_metrics = ['euclidean', 'manhattan', 'chebyshev']\n",
    "\n",
    "# Loop through each distance metric\n",
    "for metric in distance_metrics:\n",
    "    # Create KNN classifier with the specified distance metric\n",
    "    knn = KNeighborsClassifier(n_neighbors=5, metric=metric)\n",
    "    \n",
    "    # Train the classifier\n",
    "    knn.fit(X_train, y_train)\n",
    "    \n",
    "    # Make predictions\n",
    "    y_pred = knn.predict(X_test)\n",
    "    \n",
    "    # Calculate and print the accuracy for each metric\n",
    "    accuracy = metrics.accuracy_score(y_test, y_pred)\n",
    "    print(f\"Accuracy using {metric} distance metric: {accuracy}\")\n"
   ]
  },
  {
   "cell_type": "markdown",
   "id": "1c1123cf-6d30-480a-ad2c-c6a7930f34cb",
   "metadata": {},
   "source": [
    "### Apply feature scaling techniques (MinMaxScaler, StandardScaler) and assess KNN performance."
   ]
  },
  {
   "cell_type": "code",
   "execution_count": 17,
   "id": "eed9113e-8dcd-40f5-ab51-1cc2fec19700",
   "metadata": {},
   "outputs": [
    {
     "name": "stdout",
     "output_type": "stream",
     "text": [
      "Accuracy with MinMaxScaler: 1.0\n",
      "Accuracy with StandardScaler: 1.0\n"
     ]
    }
   ],
   "source": [
    "iris = load_iris()\n",
    "X = iris.data\n",
    "y = iris.target\n",
    "\n",
    "# Split the data into training and testing sets\n",
    "X_train, X_test, y_train, y_test = train_test_split(X, y, test_size=0.2, random_state=42)\n",
    "\n",
    "# Initialize scalers\n",
    "min_max_scaler = MinMaxScaler()\n",
    "standard_scaler = StandardScaler()\n",
    "\n",
    "# Scale the features using MinMaxScaler and StandardScaler\n",
    "X_train_minmax = min_max_scaler.fit_transform(X_train)\n",
    "X_test_minmax = min_max_scaler.transform(X_test)\n",
    "\n",
    "X_train_standard = standard_scaler.fit_transform(X_train)\n",
    "X_test_standard = standard_scaler.transform(X_test)\n",
    "\n",
    "# Initialize KNN classifiers\n",
    "knn_minmax = KNeighborsClassifier(n_neighbors=5)\n",
    "knn_standard = KNeighborsClassifier(n_neighbors=5)\n",
    "\n",
    "# Fit the KNN models on scaled data\n",
    "knn_minmax.fit(X_train_minmax, y_train)\n",
    "knn_standard.fit(X_train_standard, y_train)\n",
    "\n",
    "# Predict on the test set\n",
    "y_pred_minmax = knn_minmax.predict(X_test_minmax)\n",
    "y_pred_standard = knn_standard.predict(X_test_standard)\n",
    "\n",
    "# Evaluate performance\n",
    "accuracy_minmax = metrics.accuracy_score(y_test, y_pred_minmax)\n",
    "accuracy_standard = metrics.accuracy_score(y_test, y_pred_standard)\n",
    "\n",
    "# Print the results\n",
    "print(f\"Accuracy with MinMaxScaler: {accuracy_minmax}\")\n",
    "print(f\"Accuracy with StandardScaler: {accuracy_standard}\")\n"
   ]
  },
  {
   "cell_type": "markdown",
   "id": "f39c7d03-6528-424c-8e0c-4ad6ac793916",
   "metadata": {},
   "source": [
    "### Analyze the impact of different 'weights' (uniform, distance) in KNN classification."
   ]
  },
  {
   "cell_type": "code",
   "execution_count": 18,
   "id": "427cd952-b68c-4aca-95e4-34795f4fdcdd",
   "metadata": {},
   "outputs": [
    {
     "name": "stdout",
     "output_type": "stream",
     "text": [
      "Accuracy with 'uniform' weights: 1.0\n",
      "Accuracy with 'distance' weights: 1.0\n"
     ]
    }
   ],
   "source": [
    "iris = load_iris()\n",
    "X = iris.data\n",
    "y = iris.target\n",
    "\n",
    "# Split the data into training and testing sets\n",
    "X_train, X_test, y_train, y_test = train_test_split(X, y, test_size=0.2, random_state=42)\n",
    "\n",
    "# Initialize KNN classifiers with different weights\n",
    "uniform_knn = KNeighborsClassifier(weights='uniform')\n",
    "distance_knn = KNeighborsClassifier(weights='distance')\n",
    "\n",
    "# Fit the models\n",
    "uniform_knn.fit(X_train, y_train)\n",
    "distance_knn.fit(X_train, y_train)\n",
    "\n",
    "# Predictions\n",
    "uniform_pred = uniform_knn.predict(X_test)\n",
    "distance_pred = distance_knn.predict(X_test)\n",
    "\n",
    "# Calculate accuracy scores\n",
    "uniform_accuracy = accuracy_score(y_test, uniform_pred)\n",
    "distance_accuracy = accuracy_score(y_test, distance_pred)\n",
    "\n",
    "# Compare accuracies\n",
    "print(f\"Accuracy with 'uniform' weights: {uniform_accuracy}\")\n",
    "print(f\"Accuracy with 'distance' weights: {distance_accuracy}\")\n"
   ]
  },
  {
   "cell_type": "markdown",
   "id": "0db404f4-7d3f-48bb-aa1b-160dc33e7175",
   "metadata": {},
   "source": [
    "# Conclution"
   ]
  },
  {
   "cell_type": "markdown",
   "id": "b5ba4402-e0b6-47c5-895b-6e5377d57f84",
   "metadata": {},
   "source": [
    "The dataset's columns, including ID, various cellular attributes, and the target class, compile critical information for breast cancer analysis and classification tasks. Attributes like clump thickness, cell size, shape uniformity, adhesion, and mitoses provide valuable insights into cellular abnormalities. Additionally, factors like single epithelial cell size, bland chromatin, bare nuclei, and normal nucleoli contribute to understanding cellular structures and abnormalities.\n",
    "\n",
    "The inclusion of a binary classification label in the 'Classes' column, distinguishing between benign and malignant tumors, is pivotal for supervised learning algorithms. This dataset's attributes enable comprehensive analysis, aiding in the creation of predictive models to identify breast cancer types and assist in clinical decision-making processes.\n",
    "\n"
   ]
  },
  {
   "cell_type": "code",
   "execution_count": null,
   "id": "75190707-e3c8-4a3c-9bcc-f7678c7230a2",
   "metadata": {},
   "outputs": [],
   "source": []
  }
 ],
 "metadata": {
  "kernelspec": {
   "display_name": "Python 3 (ipykernel)",
   "language": "python",
   "name": "python3"
  },
  "language_info": {
   "codemirror_mode": {
    "name": "ipython",
    "version": 3
   },
   "file_extension": ".py",
   "mimetype": "text/x-python",
   "name": "python",
   "nbconvert_exporter": "python",
   "pygments_lexer": "ipython3",
   "version": "3.11.2"
  }
 },
 "nbformat": 4,
 "nbformat_minor": 5
}
